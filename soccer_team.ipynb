{
  "nbformat": 4,
  "nbformat_minor": 0,
  "metadata": {
    "colab": {
      "name": "soccer_team",
      "provenance": [],
      "collapsed_sections": []
    },
    "kernelspec": {
      "name": "python3",
      "display_name": "Python 3"
    },
    "language_info": {
      "name": "python"
    }
  },
  "cells": [
    {
      "cell_type": "markdown",
      "metadata": {
        "id": "Dw7nfF3uB_pF"
      },
      "source": [
        "# **Soccer Team Project**\n",
        "*This project has been submitted as the QSTP final project held during the summer of 2021*\n",
        "\n",
        "## Problem Statement\n",
        "You are appointed as the Sporting Director of a newly established football club \n",
        "that aims to be competitive among the top European clubs of the world. You \n",
        "have been assigned to make signings for the main lineup squad of 11 players \n",
        "that must match up to those standards but you have been allotted only with a\n",
        "limited budget of 150 million Euros for the same. You are also required to\n",
        "predict the annual wage of the squad that you have signed from the same \n",
        "dataset.\n",
        "\n",
        "## Dataset Used:\n",
        "This project uses FIFA 2020 dataset available on Kaggle by Stefano Leone\n",
        "\n",
        "Link: https://www.kaggle.com/stefanoleone992/fifa-20-complete-player-dataset\n",
        "\n",
        "## Methodolgy\n",
        "This problem's solution can be solved using the methodology of 'MoneyBall' introduced by the book, \"Moneyball: The Art of Winning an Unfair Game\" by Michael Lewis. The book argues that there are statistics of players that are very important for their performance but are generally overlooked. This method uses those overlooked attributes to sign players who are undervalued.\n",
        "\n",
        "For feature selection, this project uses Mutual info regression to calculate the dependency of the players and their attributes with their overall rating to detect the most important features\n",
        "\n",
        "Then, a normalized score is generated for the players according to their performance in those features which is used to shortlist the players and a value-for-money squad is chosen by considering other external factors like age, position, etc.,\n",
        "\n",
        "As final part of the problem, the dataset is used to predict the wages of the players with XGReggressor using pipeline processing\n",
        "\n",
      ]
    },
    {
      "cell_type": "markdown",
      "metadata": {
        "id": "1oa76-PsARcG"
      },
      "source": [
        "## **1. Data Preparation**"
      ]
    },
    {
      "cell_type": "code",
      "metadata": {
        "id": "Rv7-hHD8W21l"
      },
      "source": [
        "# Importing Libraries\n",
        "import numpy as np\n",
        "import pandas as pd\n",
        "import matplotlib.pyplot as plt"
      ],
      "execution_count": null,
      "outputs": []
    },
    {
      "cell_type": "code",
      "metadata": {
        "id": "-GimheTSXwFM"
      },
      "source": [
        "# Uploading csv data\n",
        "url = 'https://raw.githubusercontent.com/RR979/soccer_ds_project/main/fifa_dataset/players_20.csv'\n",
        "df = pd.read_csv(url)"
      ],
      "execution_count": null,
      "outputs": []
    },
    {
      "cell_type": "code",
      "metadata": {
        "id": "BZKN_UflOZ-t"
      },
      "source": [
        "df.head(5)"
      ],
      "execution_count": null,
      "outputs": []
    },
    {
      "cell_type": "code",
      "metadata": {
        "id": "hZY6D8pQn1no"
      },
      "source": [
        "# Data Cleaning\n",
        "df1=df.drop(['sofifa_id','player_url','long_name','dob','real_face','body_type','player_tags','team_jersey_number','nation_jersey_number',],axis=1)\n",
        "df2=df.drop(['sofifa_id','player_url','long_name','dob','real_face','body_type','player_tags','team_jersey_number','nation_jersey_number','short_name','player_positions','preferred_foot','player_tags','player_traits','loaned_from'],axis=1)\n",
        "df3=df.drop(['sofifa_id','player_url','long_name','dob','real_face','body_type','player_tags','team_jersey_number','nation_jersey_number','short_name','player_positions','preferred_foot','player_tags','player_traits','nation_position','loaned_from','gk_diving','gk_handling','gk_kicking','gk_reflexes','gk_speed','gk_positioning','goalkeeping_diving','goalkeeping_handling',\t'goalkeeping_kicking',\t'goalkeeping_positioning','goalkeeping_reflexes'],axis=1)\n",
        "\n",
        "# Organizing Data on the basis of attributes\n",
        "df_positions = df.iloc[:,78:104]\n",
        "df_info = df.iloc[:,0:31]\n",
        "df_info = df_info.drop(['sofifa_id','player_url','long_name','dob','real_face','body_type','player_tags','team_jersey_number','nation_jersey_number',],axis=1)\n",
        "df_skill_all = df.iloc[:,31:78]\n",
        "df_skill_all = df_skill_all.drop('player_traits',axis=1)\n",
        "df_skill = df_skill_all.drop(['gk_diving','gk_handling','gk_kicking','gk_reflexes','gk_speed','gk_positioning','goalkeeping_diving','goalkeeping_handling',\t'goalkeeping_kicking',\t'goalkeeping_positioning','goalkeeping_reflexes'],axis=1)\n",
        "\n",
        "\n",
        "#Organizing Data on the basis of Types of players\n",
        "\n",
        "# 1. Centre Backs:\n",
        "df_cb = df.loc[(df.player_positions.str.contains('CB')) | (df.team_position.str.contains('CB')) | (df.team_position.str.contains('LCB')) | (df.team_position.str.contains('RCB')) | (df.nation_position.str.contains('CB')) | (df.nation_position.str.contains('LCB')) | (df.nation_position.str.contains('RCB'))]\n",
        "df_cb_skill = df_skill.loc[(df.player_positions.str.contains('CB')) | (df.team_position.str.contains('CB')) | (df.team_position.str.contains('LCB')) | (df.team_position.str.contains('RCB')) | (df.nation_position.str.contains('CB')) | (df.nation_position.str.contains('LCB')) | (df.nation_position.str.contains('RCB'))].astype('int64')\n",
        "df_cb_info = df_info.loc[(df.player_positions.str.contains('CB')) | (df.team_position.str.contains('CB')) | (df.team_position.str.contains('LCB')) | (df.team_position.str.contains('RCB')) | (df.nation_position.str.contains('CB')) | (df.nation_position.str.contains('LCB')) | (df.nation_position.str.contains('RCB'))]\n",
        "discrete_features_cb = df_cb_skill.dtypes==int\n",
        "\n",
        "\n",
        "\n",
        "# 2. Full Backs:\n",
        "df_fb = df.loc[(df.player_positions.str.contains('RB')) | (df.player_positions.str.contains('LB')) | (df.player_positions.str.contains('RWB')) | (df.player_positions.str.contains('LWB')) | (df.team_position.str.contains('RB')) | (df.team_position.str.contains('LB')) | (df.team_position.str.contains('RWB')) | (df.team_position.str.contains('LWB')) | (df.nation_position.str.contains('RB')) | (df.nation_position.str.contains('LB')) | (df.nation_position.str.contains('RWB')) | (df.nation_position.str.contains('LWB'))]\n",
        "df_fb_skill = df_skill.loc[(df.player_positions.str.contains('RB')) | (df.player_positions.str.contains('LB')) | (df.player_positions.str.contains('RWB')) | (df.player_positions.str.contains('LWB')) | (df.team_position.str.contains('RB')) | (df.team_position.str.contains('LB')) | (df.team_position.str.contains('RWB')) | (df.team_position.str.contains('LWB')) | (df.nation_position.str.contains('RB')) | (df.nation_position.str.contains('LB')) | (df.nation_position.str.contains('RWB')) | (df.nation_position.str.contains('LWB'))].astype('int64')\n",
        "df_fb_info = df_info.loc[(df.player_positions.str.contains('RB')) | (df.player_positions.str.contains('LB')) | (df.player_positions.str.contains('RWB')) | (df.player_positions.str.contains('LWB')) | (df.team_position.str.contains('RB')) | (df.team_position.str.contains('LB')) | (df.team_position.str.contains('RWB')) | (df.team_position.str.contains('LWB')) | (df.nation_position.str.contains('RB')) | (df.nation_position.str.contains('LB')) | (df.nation_position.str.contains('RWB')) | (df.nation_position.str.contains('LWB'))]\n",
        "discrete_features_fb = df_fb_skill.dtypes==int\n",
        "\n",
        "\n",
        "# 3. Defensive Midfielders\n",
        "df_dm = df.loc[(df.player_positions.str.contains('DM')) | (df.player_positions.str.contains('CDM')) | (df.player_positions.str.contains('RDM')) | (df.player_positions.str.contains('LDM')) | (df.team_position.str.contains('DM')) | (df.team_position.str.contains('CDM')) | (df.team_position.str.contains('RDM')) | (df.team_position.str.contains('LDM')) | (df.nation_position.str.contains('DM')) | (df.nation_position.str.contains('CDM')) | (df.nation_position.str.contains('RDM')) | (df.nation_position.str.contains('LDM'))]\n",
        "df_dm_skill = df_skill.loc[(df.player_positions.str.contains('DM')) | (df.player_positions.str.contains('CDM')) | (df.player_positions.str.contains('RDM')) | (df.player_positions.str.contains('LDM')) | (df.team_position.str.contains('DM')) | (df.team_position.str.contains('CDM')) | (df.team_position.str.contains('RDM')) | (df.team_position.str.contains('LDM')) | (df.nation_position.str.contains('DM')) | (df.nation_position.str.contains('CDM')) | (df.nation_position.str.contains('RDM')) | (df.nation_position.str.contains('LDM'))].astype('int64')\n",
        "df_dm_info = df_info.loc[(df.player_positions.str.contains('DM')) | (df.player_positions.str.contains('CDM')) | (df.player_positions.str.contains('RDM')) | (df.player_positions.str.contains('LDM')) | (df.team_position.str.contains('DM')) | (df.team_position.str.contains('CDM')) | (df.team_position.str.contains('RDM')) | (df.team_position.str.contains('LDM')) | (df.nation_position.str.contains('DM')) | (df.nation_position.str.contains('CDM')) | (df.nation_position.str.contains('RDM')) | (df.nation_position.str.contains('LDM'))]\n",
        "discrete_features_dm = df_dm_skill.dtypes==int\n",
        "\n",
        "# 4. Midfielders/ Attacking Midfielders\n",
        "df_am = df.loc[(df.player_positions.str.contains('CM')) | (df.player_positions.str.contains('LM')) | (df.player_positions.str.contains('RM')) | (df.player_positions.str.contains('CAM')) | (df.team_position.str.contains('CM')) | (df.team_position.str.contains('CAM')) | (df.team_position.str.contains('RM')) | (df.team_position.str.contains('RAM')) | (df.team_position.str.contains('LM')) | (df.team_position.str.contains('LAM')) | (df.team_position.str.contains('RCM')) | (df.team_position.str.contains('LCM')) | (df.nation_position.str.contains('CM')) | (df.nation_position.str.contains('CAM')) | (df.nation_position.str.contains('RM')) | (df.nation_position.str.contains('RAM')) | (df.nation_position.str.contains('LM')) | (df.nation_position.str.contains('LAM')) | (df.nation_position.str.contains('RCM')) | (df.nation_position.str.contains('LCM'))]\n",
        "df_am_skill = df_skill.loc[(df.player_positions.str.contains('CM')) | (df.player_positions.str.contains('LM')) | (df.player_positions.str.contains('RM')) | (df.player_positions.str.contains('CAM')) | (df.team_position.str.contains('CM')) | (df.team_position.str.contains('CAM')) | (df.team_position.str.contains('RM')) | (df.team_position.str.contains('RAM')) | (df.team_position.str.contains('LM')) | (df.team_position.str.contains('LAM')) | (df.team_position.str.contains('RCM')) | (df.team_position.str.contains('LCM')) | (df.nation_position.str.contains('CM')) | (df.nation_position.str.contains('CAM')) | (df.nation_position.str.contains('RM')) | (df.nation_position.str.contains('RAM')) | (df.nation_position.str.contains('LM')) | (df.nation_position.str.contains('LAM')) | (df.nation_position.str.contains('RCM')) | (df.nation_position.str.contains('LCM'))].astype('int64')\n",
        "df_am_info = df_info.loc[(df.player_positions.str.contains('CM')) | (df.player_positions.str.contains('LM')) | (df.player_positions.str.contains('RM')) | (df.player_positions.str.contains('CAM')) | (df.team_position.str.contains('CM')) | (df.team_position.str.contains('CAM')) | (df.team_position.str.contains('RM')) | (df.team_position.str.contains('RAM')) | (df.team_position.str.contains('LM')) | (df.team_position.str.contains('LAM')) | (df.team_position.str.contains('RCM')) | (df.team_position.str.contains('LCM')) | (df.nation_position.str.contains('CM')) | (df.nation_position.str.contains('CAM')) | (df.nation_position.str.contains('RM')) | (df.nation_position.str.contains('RAM')) | (df.nation_position.str.contains('LM')) | (df.nation_position.str.contains('LAM')) | (df.nation_position.str.contains('RCM')) | (df.nation_position.str.contains('LCM'))]\n",
        "discrete_features_am = df_am_skill.dtypes==int\n",
        "\n",
        "# 5. Forwards/ Striker\n",
        "df_cf = df.loc[(df.player_positions.str.contains('ST')) | (df.player_positions.str.contains('CF')) | (df.player_positions.str.contains('LS')) | (df.player_positions.str.contains('RS')) | (df.player_positions.str.contains('LF')) | (df.player_positions.str.contains('RF')) | (df.team_position.str.contains('ST')) | (df.team_position.str.contains('CF')) | (df.team_position.str.contains('RS')) | (df.team_position.str.contains('LS')) | (df.team_position.str.contains('RF')) | (df.team_position.str.contains('LF')) | (df.nation_position.str.contains('ST')) | (df.nation_position.str.contains('CF')) | (df.nation_position.str.contains('RS')) | (df.nation_position.str.contains('LS')) | (df.nation_position.str.contains('RF')) | (df.nation_position.str.contains('LF'))]\n",
        "df_cf_skill = df_skill.loc[(df.player_positions.str.contains('ST')) | (df.player_positions.str.contains('CF')) | (df.player_positions.str.contains('LS')) | (df.player_positions.str.contains('RS')) | (df.player_positions.str.contains('LF')) | (df.player_positions.str.contains('RF')) | (df.team_position.str.contains('ST')) | (df.team_position.str.contains('CF')) | (df.team_position.str.contains('RS')) | (df.team_position.str.contains('LS')) | (df.team_position.str.contains('RF')) | (df.team_position.str.contains('LF')) | (df.nation_position.str.contains('ST')) | (df.nation_position.str.contains('CF')) | (df.nation_position.str.contains('RS')) | (df.nation_position.str.contains('LS')) | (df.nation_position.str.contains('RF')) | (df.nation_position.str.contains('LF'))].astype('int64')\n",
        "df_cf_info = df_info.loc[(df.player_positions.str.contains('ST')) | (df.player_positions.str.contains('CF')) | (df.player_positions.str.contains('LS')) | (df.player_positions.str.contains('RS')) | (df.player_positions.str.contains('LF')) | (df.player_positions.str.contains('RF')) | (df.team_position.str.contains('ST')) | (df.team_position.str.contains('CF')) | (df.team_position.str.contains('RS')) | (df.team_position.str.contains('LS')) | (df.team_position.str.contains('RF')) | (df.team_position.str.contains('LF')) | (df.nation_position.str.contains('ST')) | (df.nation_position.str.contains('CF')) | (df.nation_position.str.contains('RS')) | (df.nation_position.str.contains('LS')) | (df.nation_position.str.contains('RF')) | (df.nation_position.str.contains('LF'))]\n",
        "discrete_features_cf = df_cf_skill.dtypes==int\n",
        "\n",
        "# 6. Wingers\n",
        "df_wg = df.loc[(df.player_positions.str.contains('RW')) | (df.player_positions.str.contains('LW')) | (df.team_position.str.contains('RW')) | (df.team_position.str.contains('LW')) | (df.nation_position.str.contains('RW')) | (df.nation_position.str.contains('LW'))]\n",
        "df_wg_skill = df_skill.loc[(df.player_positions.str.contains('RW')) | (df.player_positions.str.contains('LW')) | (df.team_position.str.contains('RW')) | (df.team_position.str.contains('LW')) | (df.nation_position.str.contains('RW')) | (df.nation_position.str.contains('LW'))].astype('int64')\n",
        "df_wg_info = df_info.loc[(df.player_positions.str.contains('RW')) | (df.player_positions.str.contains('LW')) | (df.team_position.str.contains('RW')) | (df.team_position.str.contains('LW')) | (df.nation_position.str.contains('RW')) | (df.nation_position.str.contains('LW'))]\n",
        "discrete_features_wg = df_wg_skill.dtypes==int\n",
        "\n",
        "# 7. Goalkeepers\n",
        "df_gk = df.loc[(df.player_positions.str.contains('GK')) | (df.team_position.str.contains('GK')) | (df.nation_position.str.contains('GK'))]\n",
        "df_gk_skill = df_skill_all.loc[(df.player_positions.str.contains('GK')) | (df.team_position.str.contains('GK')) | (df.nation_position.str.contains('GK'))].fillna(0).astype('int64')\n",
        "df_gk_info = df_info.loc[(df.player_positions.str.contains('GK')) | (df.team_position.str.contains('GK')) | (df.nation_position.str.contains('GK'))]\n",
        "discrete_features_gk = df_gk_skill.dtypes==int"
      ],
      "execution_count": null,
      "outputs": []
    },
    {
      "cell_type": "code",
      "metadata": {
        "id": "8z67cV9ftr2U"
      },
      "source": [
        "# Checking whether the overall rating of the player is dependant upon on his market value and international reputation\n",
        "df.plot.scatter(x='overall',y='value_eur',c='DarkBlue')"
      ],
      "execution_count": null,
      "outputs": []
    },
    {
      "cell_type": "code",
      "metadata": {
        "id": "WzfRabvp_sSt"
      },
      "source": [
        "import seaborn as sns\n",
        "reg = sns.regplot(x='overall',y='international_reputation',data=df)\n",
        "reg.figure.set_size_inches(7, 7)"
      ],
      "execution_count": null,
      "outputs": []
    },
    {
      "cell_type": "markdown",
      "metadata": {
        "id": "z0XYcXrZAein"
      },
      "source": [
        "## **2. Identification of best features for each player category**"
      ]
    },
    {
      "cell_type": "code",
      "metadata": {
        "id": "YmQBA1_r0qaG"
      },
      "source": [
        "# Importing libraries and defining a few functions to help in feature prediction\n",
        "from sklearn.feature_selection import mutual_info_regression\n",
        "\n",
        "def make_mi_scores(X, y, discrete_features):\n",
        "    mi_scores = mutual_info_regression(X, y, discrete_features=discrete_features)\n",
        "    mi_scores = pd.Series(mi_scores, name=\"MI Scores\", index=X.columns)\n",
        "    mi_scores = mi_scores.sort_values(ascending=False)\n",
        "    return mi_scores\n",
        "\n",
        "def plot_mi_scores(scores):\n",
        "    scores = scores.sort_values(ascending=True)\n",
        "    width = np.arange(len(scores))\n",
        "    ticks = list(scores.index)\n",
        "    plt.barh(width, scores)\n",
        "    plt.yticks(width, ticks)\n",
        "    plt.title(\"Mutual Information Scores\")\n"
      ],
      "execution_count": null,
      "outputs": []
    },
    {
      "cell_type": "code",
      "metadata": {
        "id": "NjDVaL7oXhhX"
      },
      "source": [
        "# For identifying the most important attributes of a Defender\n",
        "mi_scores_cb = make_mi_scores(df_cb_skill, df_cb.overall, discrete_features_cb)\n",
        "plt.figure(dpi=100, figsize=(7,7))\n",
        "plot_mi_scores(mi_scores_cb)"
      ],
      "execution_count": null,
      "outputs": []
    },
    {
      "cell_type": "code",
      "metadata": {
        "id": "o1Ti_X4YUtbW"
      },
      "source": [
        "# For identifying the most important attributes of a FullBack\n",
        "mi_scores_fb = make_mi_scores(df_fb_skill, df_fb.overall, discrete_features_fb)\n",
        "plt.figure(dpi=100, figsize=(7,7))\n",
        "plot_mi_scores(mi_scores_fb)"
      ],
      "execution_count": null,
      "outputs": []
    },
    {
      "cell_type": "code",
      "metadata": {
        "id": "BCUVoyiuckkb"
      },
      "source": [
        "# For identifying the most important attributes of a Defensive Midfielder\n",
        "mi_scores_dm = make_mi_scores(df_dm_skill, df_dm.overall, discrete_features_dm)\n",
        "plt.figure(dpi=100, figsize=(7,7))\n",
        "plot_mi_scores(mi_scores_dm)"
      ],
      "execution_count": null,
      "outputs": []
    },
    {
      "cell_type": "code",
      "metadata": {
        "id": "VfOgcvju0rLI"
      },
      "source": [
        "# For identifying the most important attributes of an Attacking Midfielder\n",
        "mi_scores_am = make_mi_scores(df_am_skill, df_am.overall, discrete_features_am)\n",
        "plt.figure(dpi=100, figsize=(7,7))\n",
        "plot_mi_scores(mi_scores_am)"
      ],
      "execution_count": null,
      "outputs": []
    },
    {
      "cell_type": "code",
      "metadata": {
        "id": "ptYTNwyD25Gu"
      },
      "source": [
        "# For identifying the most important attributes of a Forward\n",
        "mi_scores_cf = make_mi_scores(df_cf_skill, df_cf.overall, discrete_features_cf)\n",
        "plt.figure(dpi=100, figsize=(7,7))\n",
        "plot_mi_scores(mi_scores_cf)"
      ],
      "execution_count": null,
      "outputs": []
    },
    {
      "cell_type": "code",
      "metadata": {
        "id": "CBM8ugSg5jjl"
      },
      "source": [
        "# For identifying the most important attributes of a Winger\n",
        "mi_scores_wg = make_mi_scores(df_wg_skill, df_wg.overall, discrete_features_wg)\n",
        "plt.figure(dpi=100, figsize=(7,7))\n",
        "plot_mi_scores(mi_scores_wg)"
      ],
      "execution_count": null,
      "outputs": []
    },
    {
      "cell_type": "code",
      "metadata": {
        "id": "XpaqIUBwvZEk"
      },
      "source": [
        "# For identifying the most important attributes of a GoalKeeper\n",
        "mi_scores_gk = make_mi_scores(df_gk_skill, df_gk.overall, discrete_features_gk)\n",
        "plt.figure(dpi=100, figsize=(7,7))\n",
        "plot_mi_scores(mi_scores_gk)"
      ],
      "execution_count": null,
      "outputs": []
    },
    {
      "cell_type": "code",
      "metadata": {
        "id": "9cH3VZgjJYmN"
      },
      "source": [
        "# Choosing best features for each player category for calculating normalized score\n",
        "\n",
        "def imp_att(scores):\n",
        "    att = []\n",
        "    for index, value in scores.items():\n",
        "      if value>=0.6:\n",
        "        att.append(str(index))\n",
        "\n",
        "    return att\n",
        "\n",
        "\n",
        "cb_att = imp_att(mi_scores_cb)\n",
        "fb_att = imp_att(mi_scores_fb)\n",
        "dm_att = imp_att(mi_scores_dm)\n",
        "am_att = imp_att(mi_scores_am)\n",
        "cf_att = imp_att(mi_scores_cf)\n",
        "wg_att = imp_att(mi_scores_wg)\n",
        "gk_att = imp_att(mi_scores_gk)"
      ],
      "execution_count": null,
      "outputs": []
    },
    {
      "cell_type": "markdown",
      "metadata": {
        "id": "A_-g35YgArgQ"
      },
      "source": [
        "## **3. Generating PL_Score for the players**"
      ]
    },
    {
      "cell_type": "code",
      "metadata": {
        "id": "KusDfP-jhChh"
      },
      "source": [
        "# Defining Player Score based on the important attributes\n",
        "def pl_score(data,arr,miscore):\n",
        "    val=0\n",
        "    for i in arr:\n",
        "      val = val + (miscore[i]*data[i])\n",
        "      pl_score = pd.Series(val, name=\"PL_Score\")\n",
        "\n",
        "    return pl_score"
      ],
      "execution_count": null,
      "outputs": []
    },
    {
      "cell_type": "code",
      "metadata": {
        "id": "5yj_5341kF3f"
      },
      "source": [
        "# Preparing Final Data for each player position with the PL_Score column\n",
        "\n",
        "df_cb_final=df_cb_info.join(pl_score(df_cb,cb_att,mi_scores_cb)).sort_values(by='PL_Score',ascending=False)\n",
        "df_fb_final=df_fb_info.join(pl_score(df_fb,fb_att,mi_scores_fb)).sort_values(by='PL_Score',ascending=False)\n",
        "df_dm_final=df_dm_info.join(pl_score(df_dm,dm_att,mi_scores_dm)).sort_values(by='PL_Score',ascending=False)\n",
        "df_am_final=df_am_info.join(pl_score(df_am,am_att,mi_scores_am)).sort_values(by='PL_Score',ascending=False)\n",
        "df_cf_final=df_cf_info.join(pl_score(df_cf,cf_att,mi_scores_cf)).sort_values(by='PL_Score',ascending=False)\n",
        "df_wg_final=df_wg_info.join(pl_score(df_wg,wg_att,mi_scores_wg)).sort_values(by='PL_Score',ascending=False)\n",
        "df_gk_final=df_gk_info.join(pl_score(df_gk,gk_att,mi_scores_gk)).sort_values(by='PL_Score',ascending=False)"
      ],
      "execution_count": null,
      "outputs": []
    },
    {
      "cell_type": "code",
      "metadata": {
        "id": "vKdPViGyqT3o"
      },
      "source": [
        "# Shortlisting top ten defenders according to the PL_Score and other factors\n",
        "df_cb_final.loc[(df_cb_final.age <= 30) & (df_cb_final.value_eur <= 12000000)].head(10)"
      ],
      "execution_count": null,
      "outputs": []
    },
    {
      "cell_type": "code",
      "metadata": {
        "id": "8rYBbw3m5CyA"
      },
      "source": [
        "# Shortlisting top ten defensive Midfielders according to the PL_Score and other factors\n",
        "df_dm_final.loc[(df_dm_final.age <= 30) & (df_dm_final.value_eur <= 12000000)].head(10)"
      ],
      "execution_count": null,
      "outputs": []
    },
    {
      "cell_type": "code",
      "metadata": {
        "id": "L4zW4BO13iJd"
      },
      "source": [
        "# Shortlisting top ten fullbacks according to the PL_Score and other factors\n",
        "df_fb_final.loc[(df_fb_final.age <= 28) & (df_fb_final.value_eur <= 12000000)].head(10)"
      ],
      "execution_count": null,
      "outputs": []
    },
    {
      "cell_type": "code",
      "metadata": {
        "id": "Eec2dJIW4ghY"
      },
      "source": [
        "# Shortlisting top ten goalkeepers according to the PL_Score and other factors\n",
        "df_gk_final.loc[(df_gk_final.age <= 28) & (df_gk_final.value_eur <= 12000000)].head(10)"
      ],
      "execution_count": null,
      "outputs": []
    },
    {
      "cell_type": "code",
      "metadata": {
        "id": "fRTSNwkB54PP"
      },
      "source": [
        "# Shortlisting top ten attacking midfielders according to the PL_Score and other factors\n",
        "df_am_final.loc[(df_am_final.age <= 28) & (df_am_final.value_eur <= 15000000)].head(10)"
      ],
      "execution_count": null,
      "outputs": []
    },
    {
      "cell_type": "code",
      "metadata": {
        "id": "JyHil7h_6ofj"
      },
      "source": [
        "# Shortlisting top ten wingers according to the PL_Score and other factors\n",
        "df_wg_final.loc[(df_wg_final.age <= 28) & (df_wg_final.value_eur <= 17000000)].head(10)"
      ],
      "execution_count": null,
      "outputs": []
    },
    {
      "cell_type": "code",
      "metadata": {
        "id": "21w0UwCo-FVQ"
      },
      "source": [
        "# Shortlisting top ten Strikers according to the PL_Score and other factors\n",
        "df_cf_final.loc[(df_cf_final.age <= 28) & (df_cf_final.value_eur <= 15000000)].head(10)"
      ],
      "execution_count": null,
      "outputs": []
    },
    {
      "cell_type": "markdown",
      "metadata": {
        "id": "xRdMgXaYBN2_"
      },
      "source": [
        "## **4. Choosing the Final Squad**"
      ]
    },
    {
      "cell_type": "code",
      "metadata": {
        "id": "15KHHBLd_GZ4"
      },
      "source": [
        "# Choosing the Squad:\n",
        "\n",
        "# The PL_Score is used to filter out possible value-for-money candidates for the positions and other factors are used to identify the ideal player for that position.\n",
        "# These other factors include cost, positional strength, flexibility to play in other positions, potential, work rate, age, etc.,\n",
        "\n",
        "# Further Positional filtering has been done by using a Formation of a top European team as model and players are selected based on their ability to play in their position with that model\n",
        "# The team Chosen is Manchester City, which plays in the English Premier League. Eventhough Manchester City has a high budget, it is known for signing value-for-money players and homegrown talents. \n",
        "# Another reason to choose Manchester City as the model Club is because it has been consistently performing well in all competitions and it has had stability in its formations because of its reputed manager, Pep Guardiola.\n",
        "\n",
        "# The suitable players shortlisted are (Index No)\n",
        "# GK: 486,747\n",
        "# CB: 515,927,545\n",
        "# DM: 516,969,913,951\n",
        "# AM: 765,802,806\n",
        "# WG: 547,607,615,1770\n",
        "# CF: 718,544\n",
        "\n",
        "\n",
        "# Out of the shortlisted players, final players selected are (index No): 486,515,927,721,1069,516,969,765,547,607,718 with an optional signing as 802.\n",
        "\n",
        "main_squad = df1.loc[(df1.index==486)|(df1.index==515)|(df1.index==927)|(df1.index==721)|(df1.index==1069)|(df1.index==516)|(df1.index==969)|(df1.index==765)|(df1.index==547)|(df1.index==607)|(df1.index==718)]\n",
        "main_squad"
      ],
      "execution_count": null,
      "outputs": []
    },
    {
      "cell_type": "code",
      "metadata": {
        "id": "JiSy9HE3JSLm"
      },
      "source": [
        "from IPython.display import Image\n",
        "from IPython.core.display import HTML \n",
        "\n",
        "# The following is an image generated from createformation.com and it shows the Final chosen Squad in the form of a lineup\n",
        "Image(url= \"https://github.com/RR979/soccer_ds_project/raw/main/soccer_team.png\", width=500, height=600)"
      ],
      "execution_count": null,
      "outputs": []
    },
    {
      "cell_type": "code",
      "metadata": {
        "id": "SIntPbgPFb6d"
      },
      "source": [
        "# Checking if the whole squad value lies within the set budget limit \n",
        "main_squad['value_eur'].sum()"
      ],
      "execution_count": null,
      "outputs": []
    },
    {
      "cell_type": "markdown",
      "metadata": {
        "id": "-Av6aWnnBZn-"
      },
      "source": [
        "*We can observe that the total sum of signings is less than the set budget limit of 150,000,000*"
      ]
    },
    {
      "cell_type": "markdown",
      "metadata": {
        "id": "GVhcokfvBhIC"
      },
      "source": [
        "## **5. Predicting Annual Wage Salary of the final squad**"
      ]
    },
    {
      "cell_type": "code",
      "metadata": {
        "id": "oGiKJaZxfs2C"
      },
      "source": [
        "# Importing Libraries for Wage prediction\n",
        "from sklearn.model_selection import train_test_split\n",
        "\n",
        "from sklearn.compose import ColumnTransformer\n",
        "from sklearn.pipeline import Pipeline\n",
        "from sklearn.impute import SimpleImputer\n",
        "from sklearn.preprocessing import OneHotEncoder\n",
        "from sklearn.metrics import mean_absolute_error"
      ],
      "execution_count": null,
      "outputs": []
    },
    {
      "cell_type": "code",
      "metadata": {
        "id": "_lc_XqUSBapu"
      },
      "source": [
        "#Preparing Training Data\n",
        "train_full = df3.drop(df3.index[[486,515,927,721,1069,516,969,765,547,607,718]])\n",
        "X = train_full.dropna(subset=['pace','wage_eur','club'],inplace=False)\n",
        "y = X.wage_eur\n",
        "X = X.drop(['wage_eur'], axis=1, inplace=False)\n",
        "\n",
        "#Preparing Test Data\n",
        "X_test_full1 = df3.loc[(df3.index==486)|(df3.index==515)|(df3.index==927)|(df3.index==721)|(df3.index==1069)|(df3.index==516)|(df3.index==969)|(df3.index==765)|(df3.index==547)|(df3.index==607)|(df3.index==718)]\n",
        "X_test_full = X_test_full1.dropna(subset=['pace','wage_eur','club'],inplace=False)"
      ],
      "execution_count": null,
      "outputs": []
    },
    {
      "cell_type": "code",
      "metadata": {
        "id": "DGrew6rRf6oo"
      },
      "source": [
        "# Splitting into training and validation data\n",
        "X_train_full, X_valid_full, y_train, y_valid = train_test_split(X, y, train_size=0.7, test_size=0.3,random_state=0)"
      ],
      "execution_count": null,
      "outputs": []
    },
    {
      "cell_type": "code",
      "metadata": {
        "id": "rsbHKTungUDj"
      },
      "source": [
        "# Finding the best categories for prediction\n",
        "best_cat_cols = [cname for cname in X_train_full.columns if X_train_full[cname].nunique() < 15 and X_train_full[cname].dtype == \"object\"]\n",
        "numeric_cols = [cname for cname in X_train_full.columns if X_train_full[cname].dtype in ['int64', 'float64']]"
      ],
      "execution_count": null,
      "outputs": []
    },
    {
      "cell_type": "code",
      "metadata": {
        "id": "1NE2445vgfPk"
      },
      "source": [
        "selected_cols = best_cat_cols + numeric_cols\n",
        "X_train = X_train_full[selected_cols].copy()\n",
        "X_valid = X_valid_full[selected_cols].copy()\n",
        "X_test = X_test_full[selected_cols].copy()"
      ],
      "execution_count": null,
      "outputs": []
    },
    {
      "cell_type": "code",
      "metadata": {
        "id": "kcKFoLEyh47b"
      },
      "source": [
        "# Preprocessing for numerical data\n",
        "numerical_transformer = SimpleImputer(strategy='constant')\n",
        "\n",
        "# Preprocessing for categorical data\n",
        "categorical_transformer = Pipeline(steps=[\n",
        "    ('imputer', SimpleImputer(strategy='constant')),\n",
        "    ('onehot', OneHotEncoder(handle_unknown='ignore'))])\n",
        "\n",
        "# Preprocessing for numerical and categorical data\n",
        "preprocessor = ColumnTransformer(\n",
        "    transformers=[\n",
        "        ('num', numerical_transformer, numeric_cols),\n",
        "        ('cat', categorical_transformer, best_cat_cols)\n",
        "    ])"
      ],
      "execution_count": null,
      "outputs": []
    },
    {
      "cell_type": "code",
      "metadata": {
        "id": "2xLs2LxDh87L"
      },
      "source": [
        "# Using XGBoost for strong prediction\n",
        "from xgboost import XGBRegressor\n",
        "\n",
        "model = XGBRegressor(objective='reg:squarederror',random_state=0,n_estimators=400, learning_rate=0.07)"
      ],
      "execution_count": null,
      "outputs": []
    },
    {
      "cell_type": "code",
      "metadata": {
        "id": "JPwoG9XRiAnN"
      },
      "source": [
        "# Preprocessing the model\n",
        "my_pipeline = Pipeline(steps=[('preprocessor', preprocessor),\n",
        "                      ('model', model)\n",
        "                     ])\n",
        "\n",
        "# Fitting the model\n",
        "my_pipeline.fit(X_train,y_train)\n",
        "\n",
        "# Predicting\n",
        "prediction = my_pipeline.predict(X_valid) \n",
        "\n",
        "print(\"Mean Absolute Error:\" , mean_absolute_error(prediction,y_valid))"
      ],
      "execution_count": null,
      "outputs": []
    },
    {
      "cell_type": "code",
      "metadata": {
        "id": "ee-trsxdiSBO"
      },
      "source": [
        "preds_test = my_pipeline.predict(X_test)"
      ],
      "execution_count": null,
      "outputs": []
    },
    {
      "cell_type": "code",
      "metadata": {
        "id": "6FhqpQ23Z5_k"
      },
      "source": [
        "wage_sheet = pd.DataFrame({'Index': X_test_full.index,\n",
        "'Wage': preds_test})\n",
        "wage_sheet.loc[len(wage_sheet.index)] = [486, df1['wage_eur'][486]] \n",
        "wage_sheet"
      ],
      "execution_count": null,
      "outputs": []
    },
    {
      "cell_type": "code",
      "metadata": {
        "id": "9u2fSw4E9zkl"
      },
      "source": [
        "wage_sheet.Wage.sum()"
      ],
      "execution_count": null,
      "outputs": []
    }
  ]
}
